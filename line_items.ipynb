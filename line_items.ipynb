{
 "cells": [
  {
   "cell_type": "code",
   "execution_count": 2,
   "metadata": {},
   "outputs": [],
   "source": [
    "import pandas as pd\n",
    "import os "
   ]
  },
  {
   "cell_type": "code",
   "execution_count": 4,
   "metadata": {},
   "outputs": [
    {
     "data": {
      "text/plain": [
       "77"
      ]
     },
     "execution_count": 4,
     "metadata": {},
     "output_type": "execute_result"
    }
   ],
   "source": [
    "products_csv = [line_csv for line_csv in os.listdir(\"data\") if \"line\" in line_csv]\n",
    "len( products_csv)"
   ]
  },
  {
   "cell_type": "code",
   "execution_count": 5,
   "metadata": {},
   "outputs": [],
   "source": [
    "line_items = pd.concat([pd.read_csv(f\"data/{line_csv}\") for line_csv in products_csv ])"
   ]
  },
  {
   "cell_type": "code",
   "execution_count": 6,
   "metadata": {},
   "outputs": [
    {
     "data": {
      "text/plain": [
       "61247787"
      ]
     },
     "execution_count": 6,
     "metadata": {},
     "output_type": "execute_result"
    }
   ],
   "source": [
    "line_items.shape[0]"
   ]
  },
  {
   "cell_type": "code",
   "execution_count": 9,
   "metadata": {},
   "outputs": [
    {
     "data": {
      "text/html": [
       "<div>\n",
       "<style scoped>\n",
       "    .dataframe tbody tr th:only-of-type {\n",
       "        vertical-align: middle;\n",
       "    }\n",
       "\n",
       "    .dataframe tbody tr th {\n",
       "        vertical-align: top;\n",
       "    }\n",
       "\n",
       "    .dataframe thead th {\n",
       "        text-align: right;\n",
       "    }\n",
       "</style>\n",
       "<table border=\"1\" class=\"dataframe\">\n",
       "  <thead>\n",
       "    <tr style=\"text-align: right;\">\n",
       "      <th></th>\n",
       "      <th>shipment_id</th>\n",
       "      <th>master_category_id</th>\n",
       "      <th>created_at</th>\n",
       "      <th>price</th>\n",
       "      <th>discount</th>\n",
       "      <th>item_id</th>\n",
       "      <th>quantity</th>\n",
       "      <th>product_id</th>\n",
       "      <th>brand_name</th>\n",
       "      <th>pricer</th>\n",
       "      <th>replaced</th>\n",
       "      <th>cancelled</th>\n",
       "    </tr>\n",
       "  </thead>\n",
       "  <tbody>\n",
       "    <tr>\n",
       "      <th>0</th>\n",
       "      <td>387023</td>\n",
       "      <td>34.0</td>\n",
       "      <td>2018-03-02 17:23:48</td>\n",
       "      <td>64.989998</td>\n",
       "      <td>0.0</td>\n",
       "      <td>3857464</td>\n",
       "      <td>1</td>\n",
       "      <td>14840</td>\n",
       "      <td>Fine Life</td>\n",
       "      <td>Pricer::PerItem</td>\n",
       "      <td>0</td>\n",
       "      <td>0</td>\n",
       "    </tr>\n",
       "    <tr>\n",
       "      <th>1</th>\n",
       "      <td>387023</td>\n",
       "      <td>22.0</td>\n",
       "      <td>2018-03-02 17:32:52</td>\n",
       "      <td>22.990000</td>\n",
       "      <td>0.0</td>\n",
       "      <td>3857581</td>\n",
       "      <td>1</td>\n",
       "      <td>66260</td>\n",
       "      <td>Слобода</td>\n",
       "      <td>Pricer::PerItem</td>\n",
       "      <td>0</td>\n",
       "      <td>0</td>\n",
       "    </tr>\n",
       "  </tbody>\n",
       "</table>\n",
       "</div>"
      ],
      "text/plain": [
       "   shipment_id  master_category_id           created_at      price  discount  \\\n",
       "0       387023                34.0  2018-03-02 17:23:48  64.989998       0.0   \n",
       "1       387023                22.0  2018-03-02 17:32:52  22.990000       0.0   \n",
       "\n",
       "   item_id  quantity  product_id brand_name           pricer  replaced  \\\n",
       "0  3857464         1       14840  Fine Life  Pricer::PerItem         0   \n",
       "1  3857581         1       66260    Слобода  Pricer::PerItem         0   \n",
       "\n",
       "   cancelled  \n",
       "0          0  \n",
       "1          0  "
      ]
     },
     "execution_count": 9,
     "metadata": {},
     "output_type": "execute_result"
    }
   ],
   "source": [
    "line_items.head(2)"
   ]
  },
  {
   "cell_type": "code",
   "execution_count": 35,
   "metadata": {},
   "outputs": [],
   "source": [
    "line_items_successful = line_items"
   ]
  },
  {
   "cell_type": "code",
   "execution_count": 36,
   "metadata": {},
   "outputs": [
    {
     "data": {
      "text/plain": [
       "61247787"
      ]
     },
     "execution_count": 36,
     "metadata": {},
     "output_type": "execute_result"
    }
   ],
   "source": [
    "line_items_successful.shape[0]"
   ]
  },
  {
   "cell_type": "code",
   "execution_count": 37,
   "metadata": {},
   "outputs": [],
   "source": [
    "line_items_successful[\"total_price_without_dicsount\"] = line_items_successful[\"price\"] * (line_items_successful[\"quantity\"] - line_items[\"replaced\"] - line_items[\"cancelled\"])\n",
    "line_items_successful[\"total_discount\"] = line_items_successful[\"discount\"] * (line_items_successful[\"quantity\"] - line_items[\"replaced\"] - line_items[\"cancelled\"])"
   ]
  },
  {
   "cell_type": "code",
   "execution_count": 38,
   "metadata": {},
   "outputs": [
    {
     "data": {
      "text/html": [
       "<div>\n",
       "<style scoped>\n",
       "    .dataframe tbody tr th:only-of-type {\n",
       "        vertical-align: middle;\n",
       "    }\n",
       "\n",
       "    .dataframe tbody tr th {\n",
       "        vertical-align: top;\n",
       "    }\n",
       "\n",
       "    .dataframe thead th {\n",
       "        text-align: right;\n",
       "    }\n",
       "</style>\n",
       "<table border=\"1\" class=\"dataframe\">\n",
       "  <thead>\n",
       "    <tr style=\"text-align: right;\">\n",
       "      <th></th>\n",
       "      <th>shipment_id</th>\n",
       "      <th>master_category_id</th>\n",
       "      <th>created_at</th>\n",
       "      <th>price</th>\n",
       "      <th>discount</th>\n",
       "      <th>item_id</th>\n",
       "      <th>quantity</th>\n",
       "      <th>product_id</th>\n",
       "      <th>brand_name</th>\n",
       "      <th>pricer</th>\n",
       "      <th>replaced</th>\n",
       "      <th>cancelled</th>\n",
       "      <th>total_price_without_dicsount</th>\n",
       "      <th>total_discount</th>\n",
       "    </tr>\n",
       "  </thead>\n",
       "  <tbody>\n",
       "    <tr>\n",
       "      <th>5</th>\n",
       "      <td>387023</td>\n",
       "      <td>24.0</td>\n",
       "      <td>2018-03-02 17:38:08</td>\n",
       "      <td>32.990002</td>\n",
       "      <td>0.0</td>\n",
       "      <td>3857716</td>\n",
       "      <td>2</td>\n",
       "      <td>46752</td>\n",
       "      <td>Даниссимо</td>\n",
       "      <td>Pricer::PerItem</td>\n",
       "      <td>0</td>\n",
       "      <td>0</td>\n",
       "      <td>65.980003</td>\n",
       "      <td>0.0</td>\n",
       "    </tr>\n",
       "    <tr>\n",
       "      <th>8</th>\n",
       "      <td>387023</td>\n",
       "      <td>24.0</td>\n",
       "      <td>2018-03-02 17:39:22</td>\n",
       "      <td>32.990002</td>\n",
       "      <td>0.0</td>\n",
       "      <td>3857732</td>\n",
       "      <td>2</td>\n",
       "      <td>94317</td>\n",
       "      <td>Даниссимо</td>\n",
       "      <td>Pricer::PerItem</td>\n",
       "      <td>0</td>\n",
       "      <td>0</td>\n",
       "      <td>65.980003</td>\n",
       "      <td>0.0</td>\n",
       "    </tr>\n",
       "  </tbody>\n",
       "</table>\n",
       "</div>"
      ],
      "text/plain": [
       "   shipment_id  master_category_id           created_at      price  discount  \\\n",
       "5       387023                24.0  2018-03-02 17:38:08  32.990002       0.0   \n",
       "8       387023                24.0  2018-03-02 17:39:22  32.990002       0.0   \n",
       "\n",
       "   item_id  quantity  product_id brand_name           pricer  replaced  \\\n",
       "5  3857716         2       46752  Даниссимо  Pricer::PerItem         0   \n",
       "8  3857732         2       94317  Даниссимо  Pricer::PerItem         0   \n",
       "\n",
       "   cancelled  total_price_without_dicsount  total_discount  \n",
       "5          0                     65.980003             0.0  \n",
       "8          0                     65.980003             0.0  "
      ]
     },
     "execution_count": 38,
     "metadata": {},
     "output_type": "execute_result"
    }
   ],
   "source": [
    "line_items_successful[line_items_successful[\"quantity\"] > 1].head(2)"
   ]
  },
  {
   "cell_type": "code",
   "execution_count": 47,
   "metadata": {},
   "outputs": [
    {
     "data": {
      "text/html": [
       "<div>\n",
       "<style scoped>\n",
       "    .dataframe tbody tr th:only-of-type {\n",
       "        vertical-align: middle;\n",
       "    }\n",
       "\n",
       "    .dataframe tbody tr th {\n",
       "        vertical-align: top;\n",
       "    }\n",
       "\n",
       "    .dataframe thead th {\n",
       "        text-align: right;\n",
       "    }\n",
       "</style>\n",
       "<table border=\"1\" class=\"dataframe\">\n",
       "  <thead>\n",
       "    <tr style=\"text-align: right;\">\n",
       "      <th></th>\n",
       "      <th>shipment_id</th>\n",
       "      <th>master_category_id</th>\n",
       "      <th>created_at</th>\n",
       "      <th>price</th>\n",
       "      <th>discount</th>\n",
       "      <th>item_id</th>\n",
       "      <th>quantity</th>\n",
       "      <th>product_id</th>\n",
       "      <th>brand_name</th>\n",
       "      <th>pricer</th>\n",
       "      <th>replaced</th>\n",
       "      <th>cancelled</th>\n",
       "      <th>total_price_without_dicsount</th>\n",
       "      <th>total_discount</th>\n",
       "    </tr>\n",
       "  </thead>\n",
       "  <tbody>\n",
       "    <tr>\n",
       "      <th>1021</th>\n",
       "      <td>1236499</td>\n",
       "      <td>144.0</td>\n",
       "      <td>2019-08-21 17:03:14</td>\n",
       "      <td>8.5</td>\n",
       "      <td>5.29</td>\n",
       "      <td>17108481</td>\n",
       "      <td>35</td>\n",
       "      <td>93360</td>\n",
       "      <td>Сады Придонья</td>\n",
       "      <td>Pricer::PerItem</td>\n",
       "      <td>0</td>\n",
       "      <td>1</td>\n",
       "      <td>289.0</td>\n",
       "      <td>179.859999</td>\n",
       "    </tr>\n",
       "    <tr>\n",
       "      <th>1022</th>\n",
       "      <td>1236499</td>\n",
       "      <td>144.0</td>\n",
       "      <td>2019-08-21 17:03:21</td>\n",
       "      <td>8.5</td>\n",
       "      <td>6.49</td>\n",
       "      <td>17108488</td>\n",
       "      <td>18</td>\n",
       "      <td>93358</td>\n",
       "      <td>Сады Придонья</td>\n",
       "      <td>Pricer::PerItem</td>\n",
       "      <td>0</td>\n",
       "      <td>1</td>\n",
       "      <td>144.5</td>\n",
       "      <td>110.329996</td>\n",
       "    </tr>\n",
       "  </tbody>\n",
       "</table>\n",
       "</div>"
      ],
      "text/plain": [
       "      shipment_id  master_category_id           created_at  price  discount  \\\n",
       "1021      1236499               144.0  2019-08-21 17:03:14    8.5      5.29   \n",
       "1022      1236499               144.0  2019-08-21 17:03:21    8.5      6.49   \n",
       "\n",
       "       item_id  quantity  product_id     brand_name           pricer  \\\n",
       "1021  17108481        35       93360  Сады Придонья  Pricer::PerItem   \n",
       "1022  17108488        18       93358  Сады Придонья  Pricer::PerItem   \n",
       "\n",
       "      replaced  cancelled  total_price_without_dicsount  total_discount  \n",
       "1021         0          1                         289.0      179.859999  \n",
       "1022         0          1                         144.5      110.329996  "
      ]
     },
     "execution_count": 47,
     "metadata": {},
     "output_type": "execute_result"
    }
   ],
   "source": [
    "line_items_successful[(line_items_successful[\"cancelled\"] > 0) & (line_items_successful[\"discount\"]!=0 )].head(2)"
   ]
  },
  {
   "cell_type": "code",
   "execution_count": 48,
   "metadata": {},
   "outputs": [],
   "source": [
    "shipmnet_agg = line_items_successful.groupby(\"shipment_id\").agg(\n",
    "                                    { \"quantity\" : \"sum\",\n",
    "                                       \"item_id\" : \"count\",\n",
    "                                       \"total_price_without_dicsount\": \"sum\", \n",
    "                                       \"total_discount\": \"sum\",\n",
    "                                       \"cancelled\" : \"sum\",\n",
    "                                       \"replaced\" : \"sum\"\n",
    "                                      }\n",
    "                                     )"
   ]
  },
  {
   "cell_type": "code",
   "execution_count": 49,
   "metadata": {},
   "outputs": [],
   "source": [
    "shipmnet_agg = shipmnet_agg.rename(columns = {\"quantity\": \"total_number_of_products\", \"item_id\": \"total_number_of_unique_products\"})"
   ]
  },
  {
   "cell_type": "code",
   "execution_count": 50,
   "metadata": {},
   "outputs": [
    {
     "data": {
      "text/html": [
       "<div>\n",
       "<style scoped>\n",
       "    .dataframe tbody tr th:only-of-type {\n",
       "        vertical-align: middle;\n",
       "    }\n",
       "\n",
       "    .dataframe tbody tr th {\n",
       "        vertical-align: top;\n",
       "    }\n",
       "\n",
       "    .dataframe thead th {\n",
       "        text-align: right;\n",
       "    }\n",
       "</style>\n",
       "<table border=\"1\" class=\"dataframe\">\n",
       "  <thead>\n",
       "    <tr style=\"text-align: right;\">\n",
       "      <th></th>\n",
       "      <th>total_number_of_products</th>\n",
       "      <th>total_number_of_unique_products</th>\n",
       "      <th>total_price_without_dicsount</th>\n",
       "      <th>total_discount</th>\n",
       "      <th>cancelled</th>\n",
       "      <th>replaced</th>\n",
       "    </tr>\n",
       "    <tr>\n",
       "      <th>shipment_id</th>\n",
       "      <th></th>\n",
       "      <th></th>\n",
       "      <th></th>\n",
       "      <th></th>\n",
       "      <th></th>\n",
       "      <th></th>\n",
       "    </tr>\n",
       "  </thead>\n",
       "  <tbody>\n",
       "    <tr>\n",
       "      <th>178163</th>\n",
       "      <td>43</td>\n",
       "      <td>31</td>\n",
       "      <td>7489.499998</td>\n",
       "      <td>320.939995</td>\n",
       "      <td>7</td>\n",
       "      <td>0</td>\n",
       "    </tr>\n",
       "    <tr>\n",
       "      <th>273988</th>\n",
       "      <td>113</td>\n",
       "      <td>81</td>\n",
       "      <td>33582.100059</td>\n",
       "      <td>2102.400017</td>\n",
       "      <td>9</td>\n",
       "      <td>4</td>\n",
       "    </tr>\n",
       "    <tr>\n",
       "      <th>322307</th>\n",
       "      <td>47</td>\n",
       "      <td>24</td>\n",
       "      <td>3529.400031</td>\n",
       "      <td>1198.849987</td>\n",
       "      <td>1</td>\n",
       "      <td>0</td>\n",
       "    </tr>\n",
       "    <tr>\n",
       "      <th>337809</th>\n",
       "      <td>75</td>\n",
       "      <td>45</td>\n",
       "      <td>8686.630035</td>\n",
       "      <td>857.299990</td>\n",
       "      <td>0</td>\n",
       "      <td>2</td>\n",
       "    </tr>\n",
       "    <tr>\n",
       "      <th>351762</th>\n",
       "      <td>73</td>\n",
       "      <td>54</td>\n",
       "      <td>8297.440020</td>\n",
       "      <td>831.120012</td>\n",
       "      <td>0</td>\n",
       "      <td>0</td>\n",
       "    </tr>\n",
       "    <tr>\n",
       "      <th>354106</th>\n",
       "      <td>50</td>\n",
       "      <td>41</td>\n",
       "      <td>5435.339994</td>\n",
       "      <td>842.840000</td>\n",
       "      <td>2</td>\n",
       "      <td>0</td>\n",
       "    </tr>\n",
       "    <tr>\n",
       "      <th>368687</th>\n",
       "      <td>57</td>\n",
       "      <td>43</td>\n",
       "      <td>8112.369992</td>\n",
       "      <td>947.749973</td>\n",
       "      <td>5</td>\n",
       "      <td>2</td>\n",
       "    </tr>\n",
       "    <tr>\n",
       "      <th>383088</th>\n",
       "      <td>379</td>\n",
       "      <td>249</td>\n",
       "      <td>56977.640068</td>\n",
       "      <td>1433.969999</td>\n",
       "      <td>8</td>\n",
       "      <td>4</td>\n",
       "    </tr>\n",
       "    <tr>\n",
       "      <th>384281</th>\n",
       "      <td>130</td>\n",
       "      <td>123</td>\n",
       "      <td>19397.190060</td>\n",
       "      <td>3057.999992</td>\n",
       "      <td>3</td>\n",
       "      <td>0</td>\n",
       "    </tr>\n",
       "    <tr>\n",
       "      <th>385477</th>\n",
       "      <td>167</td>\n",
       "      <td>155</td>\n",
       "      <td>20465.209990</td>\n",
       "      <td>947.329992</td>\n",
       "      <td>1</td>\n",
       "      <td>3</td>\n",
       "    </tr>\n",
       "  </tbody>\n",
       "</table>\n",
       "</div>"
      ],
      "text/plain": [
       "             total_number_of_products  total_number_of_unique_products  \\\n",
       "shipment_id                                                              \n",
       "178163                             43                               31   \n",
       "273988                            113                               81   \n",
       "322307                             47                               24   \n",
       "337809                             75                               45   \n",
       "351762                             73                               54   \n",
       "354106                             50                               41   \n",
       "368687                             57                               43   \n",
       "383088                            379                              249   \n",
       "384281                            130                              123   \n",
       "385477                            167                              155   \n",
       "\n",
       "             total_price_without_dicsount  total_discount  cancelled  replaced  \n",
       "shipment_id                                                                     \n",
       "178163                        7489.499998      320.939995          7         0  \n",
       "273988                       33582.100059     2102.400017          9         4  \n",
       "322307                        3529.400031     1198.849987          1         0  \n",
       "337809                        8686.630035      857.299990          0         2  \n",
       "351762                        8297.440020      831.120012          0         0  \n",
       "354106                        5435.339994      842.840000          2         0  \n",
       "368687                        8112.369992      947.749973          5         2  \n",
       "383088                       56977.640068     1433.969999          8         4  \n",
       "384281                       19397.190060     3057.999992          3         0  \n",
       "385477                       20465.209990      947.329992          1         3  "
      ]
     },
     "execution_count": 50,
     "metadata": {},
     "output_type": "execute_result"
    }
   ],
   "source": [
    "shipmnet_agg.head(10)"
   ]
  },
  {
   "cell_type": "code",
   "execution_count": 51,
   "metadata": {},
   "outputs": [],
   "source": [
    "shipmnet_agg.to_csv(\"data/products_per_shipment_aggregation_v2.csv\")"
   ]
  },
  {
   "cell_type": "code",
   "execution_count": 53,
   "metadata": {},
   "outputs": [
    {
     "data": {
      "text/plain": [
       "2266599"
      ]
     },
     "execution_count": 53,
     "metadata": {},
     "output_type": "execute_result"
    }
   ],
   "source": [
    "shipmnet_agg.shape[0]"
   ]
  }
 ],
 "metadata": {
  "kernelspec": {
   "display_name": "Python 3",
   "language": "python",
   "name": "python3"
  },
  "language_info": {
   "codemirror_mode": {
    "name": "ipython",
    "version": 3
   },
   "file_extension": ".py",
   "mimetype": "text/x-python",
   "name": "python",
   "nbconvert_exporter": "python",
   "pygments_lexer": "ipython3",
   "version": "3.7.6"
  }
 },
 "nbformat": 4,
 "nbformat_minor": 4
}
